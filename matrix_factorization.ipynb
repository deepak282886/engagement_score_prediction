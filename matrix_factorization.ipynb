{
  "cells": [
    {
      "cell_type": "code",
      "source": [
        "!pip install Surprise"
      ],
      "metadata": {
        "colab": {
          "base_uri": "https://localhost:8080/"
        },
        "id": "RlRX1lqrcqFV",
        "outputId": "2b80fd99-d8b4-453a-d96c-8389d453872a"
      },
      "id": "RlRX1lqrcqFV",
      "execution_count": 1,
      "outputs": [
        {
          "output_type": "stream",
          "name": "stdout",
          "text": [
            "Collecting Surprise\n",
            "  Downloading surprise-0.1-py2.py3-none-any.whl (1.8 kB)\n",
            "Collecting scikit-surprise\n",
            "  Downloading scikit-surprise-1.1.1.tar.gz (11.8 MB)\n",
            "\u001b[K     |████████████████████████████████| 11.8 MB 5.3 MB/s \n",
            "\u001b[?25hRequirement already satisfied: joblib>=0.11 in /usr/local/lib/python3.7/dist-packages (from scikit-surprise->Surprise) (1.1.0)\n",
            "Requirement already satisfied: numpy>=1.11.2 in /usr/local/lib/python3.7/dist-packages (from scikit-surprise->Surprise) (1.21.5)\n",
            "Requirement already satisfied: scipy>=1.0.0 in /usr/local/lib/python3.7/dist-packages (from scikit-surprise->Surprise) (1.4.1)\n",
            "Requirement already satisfied: six>=1.10.0 in /usr/local/lib/python3.7/dist-packages (from scikit-surprise->Surprise) (1.15.0)\n",
            "Building wheels for collected packages: scikit-surprise\n",
            "  Building wheel for scikit-surprise (setup.py) ... \u001b[?25l\u001b[?25hdone\n",
            "  Created wheel for scikit-surprise: filename=scikit_surprise-1.1.1-cp37-cp37m-linux_x86_64.whl size=1630177 sha256=66116ae9c8740a209ed8e46d1e6bea4e0944df38280370a01851118383c1442c\n",
            "  Stored in directory: /root/.cache/pip/wheels/76/44/74/b498c42be47b2406bd27994e16c5188e337c657025ab400c1c\n",
            "Successfully built scikit-surprise\n",
            "Installing collected packages: scikit-surprise, Surprise\n",
            "Successfully installed Surprise-0.1 scikit-surprise-1.1.1\n"
          ]
        }
      ]
    },
    {
      "cell_type": "code",
      "execution_count": 2,
      "id": "95ca3346-be82-479a-8704-124bd8e36554",
      "metadata": {
        "id": "95ca3346-be82-479a-8704-124bd8e36554"
      },
      "outputs": [],
      "source": [
        "import pandas as pd\n",
        "import numpy as np\n",
        "from sklearn.metrics import r2_score\n",
        "from surprise.prediction_algorithms import SVD \n",
        "from surprise import Reader\n",
        "from surprise import Dataset \n",
        "from surprise.model_selection import train_test_split"
      ]
    },
    {
      "cell_type": "code",
      "execution_count": 3,
      "id": "78e3bd8f-d634-4b10-a652-02694c66a5f4",
      "metadata": {
        "id": "78e3bd8f-d634-4b10-a652-02694c66a5f4"
      },
      "outputs": [],
      "source": [
        "df = pd.read_csv('train.csv')"
      ]
    },
    {
      "cell_type": "markdown",
      "id": "ec5782b9-d9b6-4cd3-b3a4-eda2f0afd73d",
      "metadata": {
        "id": "ec5782b9-d9b6-4cd3-b3a4-eda2f0afd73d"
      },
      "source": [
        "# SVD"
      ]
    },
    {
      "cell_type": "code",
      "execution_count": 4,
      "id": "b9808995-23a4-4ffb-a7ea-80e7cef16f4d",
      "metadata": {
        "id": "b9808995-23a4-4ffb-a7ea-80e7cef16f4d"
      },
      "outputs": [],
      "source": [
        "#Preparing data for SVD\n",
        "df = df[['user_id', 'video_id', 'engagement_score']].copy()  #taking user and item i.e. video for the matrix calculation\n",
        "reader = Reader(rating_scale=(0, 5))        \n",
        "df = Dataset.load_from_df(df, reader=reader)\n",
        "train, test = train_test_split(df, test_size=0.2)"
      ]
    },
    {
      "cell_type": "code",
      "execution_count": 5,
      "id": "f26032e1-55d2-4f14-9ace-b652c0ed5f62",
      "metadata": {
        "colab": {
          "base_uri": "https://localhost:8080/"
        },
        "id": "f26032e1-55d2-4f14-9ace-b652c0ed5f62",
        "outputId": "127ed2dd-6324-42a4-f95b-4ec9aa198ea1"
      },
      "outputs": [
        {
          "output_type": "execute_result",
          "data": {
            "text/plain": [
              "<surprise.prediction_algorithms.matrix_factorization.SVD at 0x7f38043df810>"
            ]
          },
          "metadata": {},
          "execution_count": 5
        }
      ],
      "source": [
        "# Training\n",
        "svd = SVD(n_factors=100, n_epochs=500, lr_all=0.05)\n",
        "svd.fit(train)"
      ]
    },
    {
      "cell_type": "code",
      "execution_count": 6,
      "id": "f43a5132-acd2-42ad-9a6a-999db6959fd0",
      "metadata": {
        "id": "f43a5132-acd2-42ad-9a6a-999db6959fd0"
      },
      "outputs": [],
      "source": [
        "pred = svd.test(test)\n",
        "y_pred = list(map(lambda x: x.est, pred))\n",
        "y_true = list(map(lambda x: x.r_ui, pred))"
      ]
    },
    {
      "cell_type": "code",
      "execution_count": 7,
      "id": "4edccdc7-45bf-4ef3-b11b-9b777d1d0f53",
      "metadata": {
        "colab": {
          "base_uri": "https://localhost:8080/"
        },
        "id": "4edccdc7-45bf-4ef3-b11b-9b777d1d0f53",
        "outputId": "9648b531-178e-4b53-dcf2-788b85b2ad77"
      },
      "outputs": [
        {
          "output_type": "execute_result",
          "data": {
            "text/plain": [
              "0.4182180481249268"
            ]
          },
          "metadata": {},
          "execution_count": 7
        }
      ],
      "source": [
        "r2_score(y_true, y_pred)"
      ]
    }
  ],
  "metadata": {
    "kernelspec": {
      "display_name": "Python 3",
      "language": "python",
      "name": "python3"
    },
    "language_info": {
      "codemirror_mode": {
        "name": "ipython",
        "version": 3
      },
      "file_extension": ".py",
      "mimetype": "text/x-python",
      "name": "python",
      "nbconvert_exporter": "python",
      "pygments_lexer": "ipython3",
      "version": "3.9.7"
    },
    "colab": {
      "name": "matrix_factorization.ipynb",
      "provenance": []
    }
  },
  "nbformat": 4,
  "nbformat_minor": 5
}